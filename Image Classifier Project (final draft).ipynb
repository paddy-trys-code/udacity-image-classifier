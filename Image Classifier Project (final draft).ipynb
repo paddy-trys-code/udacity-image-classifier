import argparse
import torch
from collections import OrderedDict
from os.path import isdir
from torch import nn
from torch import optim
from torchvision import datasets, transforms, models

def arg_parser():
    parser = argparse.ArgumentParser(description="NN Config.")
    parser.add_argument('--arch', type=str, help='name desired model')
    parser.add_argument('--save_dir', type=str, help='name checkpoint folder')
    parser.add_argument('--learning_rate', type=float, help='specify learning rate (float)')
    parser.add_argument('--hidden_units', type=int, help='specify Hidden units (int)')
    parser.add_argument('--epochs', type=int, help='specify # epochs (int)')
    parser.add_argument('--gpu', action="store_true", help='Use Cuda for parallel computation')
    args = parser.parse_args()
    return args

#modulate training data
def train_data_transformer(train_dir):
    train_transforms = transforms.Compose([transforms.RandomRotation(30),
                                       transforms.RandomResizedCrop(224),
                                       transforms.RandomHorizontalFlip(),
                                       transforms.ToTensor(),
                                       transforms.Normalize([0.485, 0.456, 0.406],
                                                            [0.229, 0.224, 0.225])])
    train_data = datasets.ImageFolder(train_dir, transform=train_transforms)
    return train_data

#modulate testing data
def test_data_transformer(test_dir):
    test_transforms = transforms.Compose([transforms.Resize(256),
                                      transforms.CenterCrop(224),
                                      transforms.ToTensor(),
                                      transforms.Normalize([0.485, 0.456, 0.406],
                                                           [0.229, 0.224, 0.225])])
    test_data = datasets.ImageFolder(test_dir, transform=test_transforms)
    return test_data

#create dataloader from dataset
def data_loader(data, train=True):
    if train:
        loader = torch.utils.data.DataLoader(data, batch_size=50, shuffle=True)
    else:
        loader = torch.utils.data.DataLoader(data, batch_size=50)
    return loader

# use CUDA if available else CPU
def check_gpu(gpu_arg):
    if not gpu_arg:
        return torch.device("cpu")
    device = torch.device("cuda:0" if torch.cuda.is_available() else "cpu")

    if device == "cpu":
        print("no coke, pepsi")
    return device

def primaryloader_model(architecture="vgg16"):
    if type(architecture) == type(None):
        model = models.vgg16(pretrained=True)
        model.name = "vgg16"
    else:
        exec("model = models.{}(pretrained=True)".format(architecture))
        model.name = architecture

    for param in model.parameters():
        param.requires_grad = False
    return model

def initial_classifier(model, hidden_units):
    if type(hidden_units) == type(None):
        hidden_units = 2048

    input_features = model.classifier[0].in_features

    classifier = nn.Sequential(OrderedDict([
                          ('fc1', nn.Linear(input_features, hidden_units)),
                          ('relu', nn.ReLU()),
                          ('fc2', nn.Linear(hidden_units, 256)),
                          ('relu', nn.ReLU()),
                          ('fc3', nn.Linear(256, 102)),
                          ('output', nn.LogSoftmax(dim=1))
                            ]))
    return classifier

def validation(model, testloader, criterion, device):
    test_loss = 0
    accuracy = 0

    for ii, (inputs, labels) in enumerate(testloader):

        inputs, labels = inputs.to(device), labels.to(device)

        output = model.forward(inputs)
        test_loss += criterion(output, labels).item()

        ps = torch.exp(output)
        equality = (labels.data == ps.max(dim=1)[1])
        accuracy += equality.type(torch.FloatTensor).mean()
    return test_loss, accuracy

def network_trainer(model, Trainloader, Testloader, Device,
                  Criterion, Optimizer, Epochs, Print_every, Steps):
    # Check Model Kwarg
    if type(epochs) == type(None):
        epochs = 5
        print("Number of Epochs specificed as 5.")

    print("Training process initializing .....\n")

    # Train Model
    for e in range(epochs):
        running_loss = 0
        model.train() # Technically not necessary, setting this for good measure

        for ii, (inputs, labels) in enumerate(Trainloader):
            Steps += 1

            inputs, labels = inputs.to(Device), labels.to(Device)

            Optimizer.zero_grad()

            # Forward and backward passes
            outputs = model.forward(inputs)
            loss = criterion(outputs, labels)
            loss.backward()
            optimizer.step()

            running_loss += loss.item()

            if steps % print_every == 0:
                model.eval()

                with torch.no_grad():
                    valid_loss, accuracy = validation(model, validloader, criterion)

                print("Epoch: {}/{} | ".format(e+1, epochs),
                     "Training Loss: {:.4f} | ".format(running_loss/print_every),
                     "Validation Loss: {:.4f} | ".format(valid_loss/len(testloader)),
                     "Validation Accuracy: {:.4f}".format(accuracy/len(testloader)))

                running_loss = 0
                model.train()

    return Model


def validate_model(Model, Testloader, Device):
   # Do validation on the test set
    correct = 0
    total = 0
    with torch.no_grad():
        Model.eval()
        for data in Testloader:
            images, labels = data
            images, labels = images.to(Device), labels.to(Device)
            outputs = Model(images)
            _, predicted = torch.max(outputs.data, 1)
            total += labels.size(0)
            correct += (predicted == labels).sum().item()

    print('Accuracy achieved by the network on test images is: %d%%' % (100 * correct / total))


def initial_checkpoint(Model, Save_Dir, Train_data):

    # Save model at checkpoint
    if type(Save_Dir) == type(None):
        print("Model checkpoint directory not specified, model will not be saved.")
    else:
        if isdir(Save_Dir):
            # Create `class_to_idx` attribute in model
            Model.class_to_idx = Train_data.class_to_idx

            # Create checkpoint dictionary
            checkpoint = {'architecture': Model.name,
                          'classifier': Model.classifier,
                          'class_to_idx': Model.class_to_idx,
                          'state_dict': Model.state_dict()}

            # Save checkpoint
            torch.save(checkpoint, 'my_checkpoint.pth')

        else:
            print("Directory not found, model will not be saved.")


def main():

    # Get Keyword Args for Training
    args = arg_parser()

    # Set directory for training
    data_dir = 'flowers'
    train_dir = data_dir + '/train'
    valid_dir = data_dir + '/valid'
    test_dir = data_dir + '/test'

    # Pass transforms in, then create trainloader
    train_data = test_data_transformer(train_dir)
    valid_data = train_data_transformer(valid_dir)
    test_data = train_data_transformer(test_dir)

    trainloader = data_loader(train_data)
    validloader = data_loader(valid_data, train=False)
    testloader = data_loader(test_data, train=False)

    # Load Model
    model = primaryloader_model(architecture=args.arch)

    # Build Classifier
    model.classifier = initial_classifier(model,
                                         hidden_units=args.hidden_units)

    # Check for GPU
    device = check_gpu(gpu_arg=args.gpu);

    # Send model to device
    model.to(device);

    # Check for learnrate args
    if type(args.learning_rate) == type(None):
        learning_rate = 0.001
        print("Learning rate specificed as 0.001")
    else: learning_rate = args.learning_rate

    # Define loss and optimizer
    criterion = nn.NLLLoss()
    optimizer = optim.Adam(model.classifier.parameters(), lr=learning_rate)

    # Define deep learning method
    print_every = 30
    steps = 0



    # Train the classifier layers using backpropogation
    trained_model = network_trainer(model, trainloader, validloader,
                                  device, criterion, optimizer, args.epochs,
                                  print_every, steps)

    print("\nTraining process is now complete!!")

    # Quickly Validate the model
    validate_model(trained_model, testloader, device)

    # Save the model
    initial_checkpoint(trained_model, args.save_dir, train_data)


#run
if __name__ == '__main__': main()
